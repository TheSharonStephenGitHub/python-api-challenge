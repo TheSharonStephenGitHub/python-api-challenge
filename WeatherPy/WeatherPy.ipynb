{
 "cells": [
  {
   "cell_type": "markdown",
   "metadata": {},
   "source": [
    "# WeatherPy\n",
    "----\n",
    "\n",
    "#### Note\n",
    "* Instructions have been included for each segment. You do not have to follow them exactly, but they are included to help you think through the steps."
   ]
  },
  {
   "cell_type": "code",
   "execution_count": 110,
   "metadata": {
    "scrolled": true
   },
   "outputs": [],
   "source": [
    "# Dependencies and Setup\r\n",
    "import matplotlib.pyplot as plt\r\n",
    "import pandas as pd\r\n",
    "import numpy as np\r\n",
    "import requests\r\n",
    "import json\r\n",
    "import time\r\n",
    "import scipy.stats as st\r\n",
    "from scipy.stats import linregress\r\n",
    "\r\n",
    "# Import API key\r\n",
    "from api_keys import weather_api_key\r\n",
    "from api_keys import g_key\r\n",
    "\r\n",
    "# Incorporated citipy to determine city based on latitude and longitude\r\n",
    "from citipy import citipy\r\n",
    "\r\n",
    "# Output File (CSV)\r\n",
    "output_data_file = \"output_data/cities.csv\"\r\n",
    "\r\n",
    "# Range of latitudes and longitudes\r\n",
    "lat_range = (-90, 90)\r\n",
    "lng_range = (-180, 180)"
   ]
  },
  {
   "cell_type": "markdown",
   "metadata": {},
   "source": [
    "## Generate Cities List"
   ]
  },
  {
   "cell_type": "code",
   "execution_count": 4,
   "metadata": {},
   "outputs": [
    {
     "data": {
      "text/plain": [
       "642"
      ]
     },
     "execution_count": 4,
     "metadata": {},
     "output_type": "execute_result"
    }
   ],
   "source": [
    "# List for holding lat_lngs and cities\n",
    "lat_lngs = []\n",
    "cities = []\n",
    "\n",
    "# Create a set of random lat and lng combinations\n",
    "lats = np.random.uniform(lat_range[0], lat_range[1], size=1500)\n",
    "lngs = np.random.uniform(lng_range[0], lng_range[1], size=1500)\n",
    "lat_lngs = zip(lats, lngs)\n",
    "\n",
    "# Identify nearest city for each lat, lng combination\n",
    "for lat_lng in lat_lngs:\n",
    "    city = citipy.nearest_city(lat_lng[0], lat_lng[1]).city_name\n",
    "    \n",
    "    # If the city is unique, then add it to a our cities list\n",
    "    if city not in cities:\n",
    "        cities.append(city)\n",
    "\n",
    "# Print the city count to confirm sufficient count\n",
    "len(cities)"
   ]
  },
  {
   "cell_type": "markdown",
   "metadata": {},
   "source": [
    "### Perform API Calls\n",
    "* Perform a weather check on each city using a series of successive API calls.\n",
    "* Include a print log of each city as it'sbeing processed (with the city number and city name).\n"
   ]
  },
  {
   "cell_type": "code",
   "execution_count": 90,
   "metadata": {
    "scrolled": true
   },
   "outputs": [
    {
     "name": "stdout",
     "output_type": "stream",
     "text": [
      "Beginning Data Retrieval\n",
      "-----------------------------\n",
      "Processing Record 1 of Set 1 | qaanaaq\n",
      "Processing Record 2 of Set 1 | miles city\n",
      "Processing Record 3 of Set 1 | san policarpo\n",
      "Processing Record 4 of Set 1 | sitka\n",
      "Processing Record 5 of Set 1 | lebu\n",
      "Processing Record 6 of Set 1 | mar del plata\n",
      "Processing Record 7 of Set 1 | vaini\n",
      "Processing Record 8 of Set 1 | saint george\n",
      "Processing Record 9 of Set 1 | port alfred\n",
      "Processing Record 10 of Set 1 | makueni\n",
      "Processing Record 11 of Set 1 | hilo\n",
      "Processing Record 12 of Set 1 | muros\n",
      "City not found. Skipping\n",
      "Processing Record 13 of Set 1 | busselton\n",
      "Processing Record 14 of Set 1 | kaitangata\n",
      "Processing Record 15 of Set 1 | bluff\n",
      "Processing Record 16 of Set 1 | santa isabel do rio negro\n",
      "City not found. Skipping\n",
      "Processing Record 17 of Set 1 | aljezur\n",
      "Processing Record 18 of Set 1 | rundu\n",
      "Processing Record 19 of Set 1 | pisco\n",
      "Processing Record 20 of Set 1 | barrow\n",
      "Processing Record 21 of Set 1 | ponta do sol\n",
      "Processing Record 22 of Set 1 | saint anthony\n",
      "Processing Record 23 of Set 1 | yar-sale\n",
      "Processing Record 24 of Set 1 | sao filipe\n",
      "City not found. Skipping\n",
      "Processing Record 25 of Set 1 | rikitea\n",
      "Processing Record 26 of Set 1 | ribeira grande\n",
      "Processing Record 27 of Set 1 | mataura\n",
      "Processing Record 28 of Set 1 | ocampo\n",
      "Processing Record 29 of Set 1 | tabou\n",
      "Processing Record 30 of Set 1 | bengkulu\n",
      "Processing Record 31 of Set 1 | upernavik\n",
      "Processing Record 32 of Set 1 | dekar\n",
      "Processing Record 33 of Set 1 | castro\n",
      "Processing Record 34 of Set 1 | rudbar\n",
      "Processing Record 35 of Set 1 | tiznit\n",
      "Processing Record 36 of Set 1 | ushuaia\n",
      "Processing Record 37 of Set 1 | fortuna\n",
      "Processing Record 38 of Set 1 | mineral wells\n",
      "Processing Record 39 of Set 1 | pangody\n",
      "Processing Record 40 of Set 1 | rocha\n",
      "Processing Record 41 of Set 1 | los llanos de aridane\n",
      "Processing Record 42 of Set 1 | emba\n",
      "Processing Record 43 of Set 1 | kisesa\n",
      "Processing Record 44 of Set 1 | puerto escondido\n",
      "Processing Record 45 of Set 1 | butaritari\n",
      "Processing Record 46 of Set 1 | dicabisagan\n",
      "City not found. Skipping\n",
      "Processing Record 47 of Set 1 | panaba\n",
      "Processing Record 48 of Set 1 | hasaki\n",
      "Processing Record 49 of Set 1 | abeche\n",
      "Processing Record 50 of Set 1 | bozdar\n",
      "Processing Record 51 of Set 1 | cayenne\n",
      "Processing Record 52 of Set 1 | imbituba\n",
      "Processing Record 53 of Set 1 | laguna\n",
      "Processing Record 54 of Set 1 | newport\n",
      "Processing Record 55 of Set 1 | shishou\n",
      "Processing Record 56 of Set 1 | biak\n",
      "Processing Record 57 of Set 1 | punta arenas\n",
      "Processing Record 58 of Set 1 | tazovskiy\n",
      "Processing Record 59 of Set 1 | hurghada\n",
      "Processing Record 60 of Set 1 | jamestown\n",
      "Processing Record 61 of Set 1 | ankang\n",
      "Processing Record 62 of Set 1 | bethel\n",
      "Processing Record 63 of Set 1 | coahuayana\n",
      "Processing Record 64 of Set 1 | saint-philippe\n",
      "Processing Record 65 of Set 1 | mantua\n",
      "Processing Record 66 of Set 1 | tuatapere\n",
      "Processing Record 67 of Set 1 | thompson\n",
      "Processing Record 68 of Set 1 | marovoay\n",
      "City not found. Skipping\n",
      "Processing Record 69 of Set 1 | tuktoyaktuk\n",
      "Processing Record 70 of Set 1 | taoudenni\n",
      "Processing Record 71 of Set 1 | okhotsk\n",
      "Processing Record 72 of Set 1 | beringovskiy\n",
      "Processing Record 73 of Set 1 | saldanha\n",
      "City not found. Skipping\n",
      "Processing Record 74 of Set 1 | todos santos\n",
      "Processing Record 75 of Set 1 | cidreira\n",
      "Processing Record 76 of Set 1 | gat\n",
      "Processing Record 77 of Set 1 | torbay\n",
      "City not found. Skipping\n",
      "Processing Record 78 of Set 1 | bonthe\n",
      "Processing Record 79 of Set 1 | atuona\n",
      "Processing Record 80 of Set 1 | amapa\n",
      "Processing Record 81 of Set 1 | linguere\n",
      "Processing Record 82 of Set 1 | elat\n",
      "Processing Record 83 of Set 1 | carnarvon\n",
      "Processing Record 84 of Set 1 | kodiak\n",
      "City not found. Skipping\n",
      "Processing Record 85 of Set 1 | tiksi\n",
      "Processing Record 86 of Set 1 | conceicao da barra\n",
      "Processing Record 87 of Set 1 | te anau\n",
      "Processing Record 88 of Set 1 | meridian\n",
      "Processing Record 89 of Set 1 | dogondoutchi\n",
      "Processing Record 90 of Set 1 | hithadhoo\n",
      "Processing Record 91 of Set 1 | yellowknife\n",
      "Processing Record 92 of Set 1 | tasiilaq\n",
      "Processing Record 93 of Set 1 | khatanga\n",
      "Processing Record 94 of Set 1 | arlit\n",
      "Processing Record 95 of Set 1 | albany\n",
      "Processing Record 96 of Set 1 | rio grande\n",
      "Processing Record 97 of Set 1 | narsaq\n",
      "Processing Record 98 of Set 1 | puerto quijarro\n",
      "Processing Record 99 of Set 1 | oussouye\n",
      "Processing Record 100 of Set 1 | codrington\n",
      "Processing Record 101 of Set 1 | kathu\n",
      "Processing Record 102 of Set 1 | moura\n",
      "Processing Record 103 of Set 1 | wewak\n",
      "Processing Record 104 of Set 1 | portland\n",
      "Processing Record 105 of Set 1 | sovetskiy\n",
      "Processing Record 106 of Set 1 | kirillov\n",
      "Processing Record 107 of Set 1 | kapaa\n",
      "Processing Record 108 of Set 1 | bhag\n",
      "Processing Record 109 of Set 1 | nueva concepcion\n",
      "Processing Record 110 of Set 1 | resistencia\n",
      "Processing Record 111 of Set 1 | east london\n",
      "Processing Record 112 of Set 1 | tabas\n",
      "Processing Record 113 of Set 1 | cape town\n",
      "Processing Record 114 of Set 1 | cheremukhovo\n",
      "Processing Record 115 of Set 1 | cordoba\n",
      "City not found. Skipping\n",
      "Processing Record 116 of Set 1 | cherskiy\n",
      "City not found. Skipping\n",
      "Processing Record 117 of Set 1 | boa vista\n",
      "Processing Record 118 of Set 1 | port elizabeth\n",
      "Processing Record 119 of Set 1 | armidale\n",
      "Processing Record 120 of Set 1 | nuuk\n",
      "City not found. Skipping\n",
      "Processing Record 121 of Set 1 | grover beach\n",
      "Processing Record 122 of Set 1 | benguela\n",
      "Processing Record 123 of Set 1 | bambous virieux\n",
      "Processing Record 124 of Set 1 | dikson\n",
      "Processing Record 125 of Set 1 | new norfolk\n",
      "Processing Record 126 of Set 1 | marrakesh\n",
      "Processing Record 127 of Set 1 | mana\n",
      "City not found. Skipping\n",
      "Processing Record 128 of Set 1 | saskylakh\n",
      "City not found. Skipping\n",
      "Processing Record 129 of Set 1 | santa cruz\n",
      "Processing Record 130 of Set 1 | georgetown\n",
      "Processing Record 131 of Set 1 | pitea\n",
      "City not found. Skipping\n",
      "Processing Record 132 of Set 1 | cheney\n",
      "Processing Record 133 of Set 1 | carmelo\n",
      "Processing Record 134 of Set 1 | haines junction\n",
      "City not found. Skipping\n",
      "Processing Record 135 of Set 1 | kaseda\n",
      "Processing Record 136 of Set 1 | kastamonu\n",
      "Processing Record 137 of Set 1 | santa marta\n",
      "Processing Record 138 of Set 1 | aklavik\n",
      "Processing Record 139 of Set 1 | timra\n",
      "Processing Record 140 of Set 1 | dunedin\n",
      "City not found. Skipping\n",
      "City not found. Skipping\n",
      "Processing Record 141 of Set 1 | lanivtsi\n",
      "Processing Record 142 of Set 1 | esperance\n",
      "Processing Record 143 of Set 1 | maarianhamina\n",
      "Processing Record 144 of Set 1 | anloga\n",
      "Processing Record 145 of Set 1 | awjilah\n",
      "Processing Record 146 of Set 1 | scarborough\n",
      "Processing Record 147 of Set 1 | hobart\n",
      "Processing Record 148 of Set 1 | soe\n",
      "City not found. Skipping\n",
      "Processing Record 149 of Set 1 | kosonsoy\n",
      "Processing Record 150 of Set 1 | avera\n",
      "Processing Record 151 of Set 1 | arraial do cabo\n",
      "Processing Record 152 of Set 1 | wilmington\n",
      "Processing Record 153 of Set 1 | ayan\n",
      "Processing Record 154 of Set 1 | shimoda\n",
      "Processing Record 155 of Set 1 | hovd\n",
      "Processing Record 156 of Set 1 | walvis bay\n",
      "Processing Record 157 of Set 1 | general roca\n",
      "Processing Record 158 of Set 1 | valparaiso\n",
      "Processing Record 159 of Set 1 | berlevag\n",
      "Processing Record 160 of Set 1 | venado\n",
      "City not found. Skipping\n",
      "Processing Record 161 of Set 1 | ixtapa\n",
      "Processing Record 162 of Set 1 | road town\n",
      "City not found. Skipping\n",
      "City not found. Skipping\n",
      "Processing Record 163 of Set 1 | geraldton\n",
      "Processing Record 164 of Set 1 | marang\n",
      "Processing Record 165 of Set 1 | kargil\n",
      "Processing Record 166 of Set 1 | chuy\n",
      "Processing Record 167 of Set 1 | lompoc\n",
      "Processing Record 168 of Set 1 | puerto ayora\n",
      "Processing Record 169 of Set 1 | wanning\n",
      "Processing Record 170 of Set 1 | nacala\n",
      "Processing Record 171 of Set 1 | sakakah\n",
      "Processing Record 172 of Set 1 | semporna\n",
      "City not found. Skipping\n",
      "Processing Record 173 of Set 1 | cardonal\n",
      "Processing Record 174 of Set 1 | padang\n",
      "Processing Record 175 of Set 1 | kyren\n",
      "Processing Record 176 of Set 1 | sao jose da coroa grande\n",
      "Processing Record 177 of Set 1 | talnakh\n",
      "Processing Record 178 of Set 1 | toguchin\n",
      "Processing Record 179 of Set 1 | nakhon phanom\n",
      "Processing Record 180 of Set 1 | dalaba\n",
      "Processing Record 181 of Set 1 | ulaangom\n",
      "Processing Record 182 of Set 1 | urusha\n",
      "Processing Record 183 of Set 1 | sharjah\n",
      "Processing Record 184 of Set 1 | svetlogorsk\n",
      "Processing Record 185 of Set 1 | moose factory\n",
      "Processing Record 186 of Set 1 | grindavik\n",
      "Processing Record 187 of Set 1 | burnie\n",
      "Processing Record 188 of Set 1 | dingle\n",
      "Processing Record 189 of Set 1 | mnogovershinnyy\n",
      "Processing Record 190 of Set 1 | hermanus\n",
      "Processing Record 191 of Set 1 | taltal\n",
      "Processing Record 192 of Set 1 | gambela\n",
      "City not found. Skipping\n",
      "Processing Record 193 of Set 1 | iqaluit\n",
      "Processing Record 194 of Set 1 | corinto\n",
      "Processing Record 195 of Set 1 | seoul\n",
      "Processing Record 196 of Set 1 | alta floresta\n",
      "Processing Record 197 of Set 1 | laurinburg\n",
      "Processing Record 198 of Set 1 | arteaga\n",
      "Processing Record 199 of Set 1 | avarua\n",
      "Processing Record 200 of Set 1 | husavik\n",
      "Processing Record 201 of Set 1 | zhigansk\n",
      "Processing Record 202 of Set 1 | brae\n",
      "Processing Record 203 of Set 1 | abha\n",
      "Processing Record 204 of Set 1 | ryde\n",
      "Processing Record 205 of Set 1 | lagoa\n",
      "City not found. Skipping\n",
      "Processing Record 206 of Set 1 | koster\n",
      "Processing Record 207 of Set 1 | sur\n",
      "Processing Record 208 of Set 1 | zheleznodorozhnyy\n",
      "Processing Record 209 of Set 1 | santa maria\n",
      "Processing Record 210 of Set 1 | cochrane\n",
      "Processing Record 211 of Set 1 | nishihara\n",
      "Processing Record 212 of Set 1 | umba\n",
      "Processing Record 213 of Set 1 | houston\n",
      "Processing Record 214 of Set 1 | champerico\n",
      "Processing Record 215 of Set 1 | eureka\n",
      "City not found. Skipping\n",
      "Processing Record 216 of Set 1 | viisoara\n",
      "Processing Record 217 of Set 1 | alekseyevsk\n",
      "Processing Record 218 of Set 1 | kysyl-syr\n",
      "Processing Record 219 of Set 1 | buala\n",
      "Processing Record 220 of Set 1 | severo-kurilsk\n",
      "Processing Record 221 of Set 1 | puerto baquerizo moreno\n",
      "Processing Record 222 of Set 1 | jipijapa\n",
      "Processing Record 223 of Set 1 | meulaboh\n",
      "Processing Record 224 of Set 1 | magadi\n",
      "Processing Record 225 of Set 1 | clyde river\n",
      "Processing Record 226 of Set 1 | faanui\n",
      "Processing Record 227 of Set 1 | zhezkazgan\n",
      "Processing Record 228 of Set 1 | souillac\n",
      "Processing Record 229 of Set 1 | unai\n",
      "Processing Record 230 of Set 1 | dakar\n",
      "Processing Record 231 of Set 1 | ureki\n",
      "Processing Record 232 of Set 1 | hamilton\n",
      "City not found. Skipping\n",
      "Processing Record 233 of Set 1 | itoman\n",
      "Processing Record 234 of Set 1 | cape girardeau\n",
      "Processing Record 235 of Set 1 | calbuco\n",
      "Processing Record 236 of Set 1 | russell\n",
      "Processing Record 237 of Set 1 | marawi\n",
      "Processing Record 238 of Set 1 | sibenik\n",
      "Processing Record 239 of Set 1 | prince rupert\n",
      "Processing Record 240 of Set 1 | alyangula\n",
      "Processing Record 241 of Set 1 | kamenka\n",
      "Processing Record 242 of Set 1 | mersing\n",
      "Processing Record 243 of Set 1 | soderhamn\n",
      "Processing Record 244 of Set 1 | tokur\n",
      "Processing Record 245 of Set 1 | surt\n",
      "Processing Record 246 of Set 1 | belyy yar\n",
      "City not found. Skipping\n",
      "Processing Record 247 of Set 1 | jovellar\n",
      "Processing Record 248 of Set 1 | warrnambool\n",
      "Processing Record 249 of Set 1 | port moresby\n",
      "Processing Record 250 of Set 1 | krasnovishersk\n",
      "Processing Record 251 of Set 1 | mount isa\n",
      "Processing Record 252 of Set 1 | port pirie\n",
      "Processing Record 253 of Set 1 | mount pleasant\n",
      "Processing Record 254 of Set 1 | sinjar\n",
      "Processing Record 255 of Set 1 | nemuro\n",
      "Processing Record 256 of Set 1 | sao gabriel da cachoeira\n",
      "Processing Record 257 of Set 1 | naze\n",
      "Processing Record 258 of Set 1 | nova olinda do norte\n",
      "Processing Record 259 of Set 1 | port lincoln\n",
      "Processing Record 260 of Set 1 | wattegama\n",
      "Processing Record 261 of Set 1 | vanimo\n",
      "Processing Record 262 of Set 1 | thayetmyo\n",
      "Processing Record 263 of Set 1 | muli\n",
      "Processing Record 264 of Set 1 | rawson\n",
      "Processing Record 265 of Set 1 | airai\n",
      "Processing Record 266 of Set 1 | evansville\n",
      "Processing Record 267 of Set 1 | mitsamiouli\n",
      "Processing Record 268 of Set 1 | rauma\n",
      "Processing Record 269 of Set 1 | bumba\n",
      "Processing Record 270 of Set 1 | half moon bay\n",
      "Processing Record 271 of Set 1 | quanzhou\n",
      "Processing Record 272 of Set 1 | kahului\n",
      "Processing Record 273 of Set 1 | redmond\n",
      "Processing Record 274 of Set 1 | shakiso\n",
      "Processing Record 275 of Set 1 | yaan\n",
      "Processing Record 276 of Set 1 | asind\n",
      "Processing Record 277 of Set 1 | bathsheba\n",
      "Processing Record 278 of Set 1 | tucuman\n",
      "Processing Record 279 of Set 1 | tignere\n",
      "Processing Record 280 of Set 1 | hobyo\n",
      "Processing Record 281 of Set 1 | tacoronte\n",
      "Processing Record 282 of Set 1 | franca\n",
      "Processing Record 283 of Set 1 | muncie\n",
      "Processing Record 284 of Set 1 | heide\n",
      "Processing Record 285 of Set 1 | krasnoselkup\n",
      "Processing Record 286 of Set 1 | lyubar\n",
      "Processing Record 287 of Set 1 | coihaique\n",
      "Processing Record 288 of Set 1 | vestmannaeyjar\n",
      "Processing Record 289 of Set 1 | san cristobal\n",
      "Processing Record 290 of Set 1 | ilesha\n",
      "Processing Record 291 of Set 1 | bilma\n",
      "Processing Record 292 of Set 1 | kahuta\n",
      "Processing Record 293 of Set 1 | kushmurun\n",
      "Processing Record 294 of Set 1 | lavrentiya\n",
      "Processing Record 295 of Set 1 | saint simons\n",
      "City not found. Skipping\n",
      "City not found. Skipping\n",
      "Processing Record 296 of Set 1 | zhangye\n",
      "Processing Record 297 of Set 1 | saurimo\n",
      "Processing Record 298 of Set 1 | peleduy\n",
      "Processing Record 299 of Set 1 | sechura\n",
      "Processing Record 300 of Set 1 | havre-saint-pierre\n",
      "Processing Record 301 of Set 1 | ankazobe\n",
      "Processing Record 302 of Set 1 | puri\n",
      "Processing Record 303 of Set 1 | camacha\n",
      "Processing Record 304 of Set 1 | maxixe\n",
      "City not found. Skipping\n",
      "Processing Record 305 of Set 1 | phan thiet\n",
      "Processing Record 306 of Set 1 | sirnak\n",
      "City not found. Skipping\n",
      "Processing Record 307 of Set 1 | evensk\n",
      "Processing Record 308 of Set 1 | xam nua\n",
      "Processing Record 309 of Set 1 | ambilobe\n",
      "Processing Record 310 of Set 1 | moa\n",
      "Processing Record 311 of Set 1 | tsaratanana\n",
      "Processing Record 312 of Set 1 | hirara\n",
      "Processing Record 313 of Set 1 | bombay\n",
      "Processing Record 314 of Set 1 | humberto de campos\n",
      "Processing Record 315 of Set 1 | cabo san lucas\n",
      "Processing Record 316 of Set 1 | rayevskiy\n",
      "Processing Record 317 of Set 1 | kavieng\n",
      "Processing Record 318 of Set 1 | matara\n",
      "Processing Record 319 of Set 1 | labuhan\n",
      "Processing Record 320 of Set 1 | tuyen quang\n",
      "Processing Record 321 of Set 1 | nehe\n",
      "Processing Record 322 of Set 1 | pachino\n",
      "Processing Record 323 of Set 1 | portsmouth\n",
      "Processing Record 324 of Set 1 | sinnamary\n",
      "Processing Record 325 of Set 1 | vilhena\n",
      "Processing Record 326 of Set 1 | manokwari\n",
      "Processing Record 327 of Set 1 | plouzane\n",
      "Processing Record 328 of Set 1 | pandan\n",
      "City not found. Skipping\n",
      "Processing Record 329 of Set 1 | kautokeino\n",
      "Processing Record 330 of Set 1 | olbia\n",
      "Processing Record 331 of Set 1 | akyab\n",
      "Processing Record 332 of Set 1 | bagdarin\n",
      "Processing Record 333 of Set 1 | yershov\n",
      "Processing Record 334 of Set 1 | norman wells\n",
      "Processing Record 335 of Set 1 | cabedelo\n",
      "Processing Record 336 of Set 1 | katangli\n",
      "Processing Record 337 of Set 1 | longyearbyen\n",
      "Processing Record 338 of Set 1 | xining\n",
      "Processing Record 339 of Set 1 | cravo norte\n",
      "Processing Record 340 of Set 1 | san patricio\n",
      "Processing Record 341 of Set 1 | gamba\n",
      "Processing Record 342 of Set 1 | ranfurly\n",
      "Processing Record 343 of Set 1 | kainantu\n",
      "Processing Record 344 of Set 1 | fairbanks\n",
      "Processing Record 345 of Set 1 | harper\n",
      "Processing Record 346 of Set 1 | chaman\n",
      "Processing Record 347 of Set 1 | chumikan\n",
      "Processing Record 348 of Set 1 | petropavlovsk-kamchatskiy\n",
      "Processing Record 349 of Set 1 | sioux lookout\n",
      "Processing Record 350 of Set 1 | sawakin\n",
      "Processing Record 351 of Set 1 | verkhniye kigi\n",
      "Processing Record 352 of Set 1 | yulara\n",
      "Processing Record 353 of Set 1 | comodoro rivadavia\n",
      "Processing Record 354 of Set 1 | poum\n",
      "City not found. Skipping\n",
      "Processing Record 355 of Set 1 | bam\n",
      "Processing Record 356 of Set 1 | aketi\n",
      "City not found. Skipping\n",
      "Processing Record 357 of Set 1 | ust-omchug\n",
      "Processing Record 358 of Set 1 | mancora\n",
      "Processing Record 359 of Set 1 | puerto maldonado\n",
      "Processing Record 360 of Set 1 | arroyo\n",
      "Processing Record 361 of Set 1 | mora\n",
      "Processing Record 362 of Set 1 | osoyoos\n",
      "City not found. Skipping\n",
      "Processing Record 363 of Set 1 | egvekinot\n",
      "Processing Record 364 of Set 1 | kirakira\n",
      "Processing Record 365 of Set 1 | aksu\n",
      "City not found. Skipping\n",
      "Processing Record 366 of Set 1 | brooks\n",
      "Processing Record 367 of Set 1 | doka\n",
      "Processing Record 368 of Set 1 | penzance\n",
      "Processing Record 369 of Set 1 | coffs harbour\n",
      "Processing Record 370 of Set 1 | yatou\n",
      "Processing Record 371 of Set 1 | nyurba\n",
      "Processing Record 372 of Set 1 | saint-leu\n",
      "Processing Record 373 of Set 1 | salalah\n",
      "Processing Record 374 of Set 1 | labrea\n",
      "Processing Record 375 of Set 1 | goderich\n",
      "Processing Record 376 of Set 1 | igrim\n",
      "Processing Record 377 of Set 1 | sozopol\n",
      "Processing Record 378 of Set 1 | ciudad guayana\n",
      "Processing Record 379 of Set 1 | nanakuli\n",
      "Processing Record 380 of Set 1 | tomatlan\n",
      "Processing Record 381 of Set 1 | coxim\n",
      "Processing Record 382 of Set 1 | kalemie\n",
      "Processing Record 383 of Set 1 | tyukhtet\n",
      "Processing Record 384 of Set 1 | maniwaki\n",
      "Processing Record 385 of Set 1 | blanquefort\n",
      "Processing Record 386 of Set 1 | vestmanna\n",
      "Processing Record 387 of Set 1 | susehri\n",
      "Processing Record 388 of Set 1 | zonguldak\n",
      "Processing Record 389 of Set 1 | udachnyy\n",
      "Processing Record 390 of Set 1 | nyrob\n",
      "Processing Record 391 of Set 1 | ancud\n",
      "Processing Record 392 of Set 1 | ilulissat\n",
      "Processing Record 393 of Set 1 | rockport\n",
      "Processing Record 394 of Set 1 | san rafael del sur\n",
      "Processing Record 395 of Set 1 | buin\n",
      "Processing Record 396 of Set 1 | nikolskoye\n",
      "Processing Record 397 of Set 1 | cotui\n",
      "Processing Record 398 of Set 1 | beidao\n",
      "Processing Record 399 of Set 1 | maragogi\n",
      "Processing Record 400 of Set 1 | mahdasht\n",
      "Processing Record 401 of Set 1 | solnechnyy\n",
      "Processing Record 402 of Set 1 | joensuu\n",
      "Processing Record 403 of Set 1 | magura\n",
      "Processing Record 404 of Set 1 | okha\n",
      "Processing Record 405 of Set 1 | novonikolayevskiy\n",
      "Processing Record 406 of Set 1 | bredasdorp\n",
      "City not found. Skipping\n",
      "Processing Record 407 of Set 1 | partur\n",
      "Processing Record 408 of Set 1 | kruisfontein\n",
      "Processing Record 409 of Set 1 | dalmeny\n",
      "Processing Record 410 of Set 1 | atambua\n",
      "Processing Record 411 of Set 1 | markala\n",
      "Processing Record 412 of Set 1 | presidencia roque saenz pena\n",
      "Processing Record 413 of Set 1 | vardo\n",
      "Processing Record 414 of Set 1 | inirida\n",
      "Processing Record 415 of Set 1 | bom jesus da lapa\n",
      "Processing Record 416 of Set 1 | deputatskiy\n",
      "City not found. Skipping\n",
      "Processing Record 417 of Set 1 | ponca city\n",
      "Processing Record 418 of Set 1 | monrovia\n",
      "Processing Record 419 of Set 1 | brindisi\n",
      "Processing Record 420 of Set 1 | sindor\n",
      "Processing Record 421 of Set 1 | shelburne\n",
      "Processing Record 422 of Set 1 | belize\n",
      "Processing Record 423 of Set 1 | sampit\n",
      "Processing Record 424 of Set 1 | tilichiki\n",
      "Processing Record 425 of Set 1 | kavaratti\n",
      "Processing Record 426 of Set 1 | puerto ayacucho\n",
      "Processing Record 427 of Set 1 | champagnole\n",
      "Processing Record 428 of Set 1 | les cayes\n",
      "Processing Record 429 of Set 1 | krasnyy chikoy\n",
      "Processing Record 430 of Set 1 | nalut\n",
      "Processing Record 431 of Set 1 | gobabis\n",
      "Processing Record 432 of Set 1 | srandakan\n",
      "Processing Record 433 of Set 1 | altea\n",
      "Processing Record 434 of Set 1 | broken hill\n",
      "Processing Record 435 of Set 1 | marystown\n",
      "Processing Record 436 of Set 1 | victoria\n",
      "Processing Record 437 of Set 1 | nuevo progreso\n",
      "Processing Record 438 of Set 1 | ballina\n",
      "Processing Record 439 of Set 1 | lata\n",
      "Processing Record 440 of Set 1 | santa luzia\n",
      "Processing Record 441 of Set 1 | xenia\n",
      "Processing Record 442 of Set 1 | brownwood\n",
      "Processing Record 443 of Set 1 | nanortalik\n",
      "Processing Record 444 of Set 1 | klaksvik\n",
      "Processing Record 445 of Set 1 | lesozavodsk\n",
      "Processing Record 446 of Set 1 | port shepstone\n",
      "Processing Record 447 of Set 1 | paslek\n",
      "Processing Record 448 of Set 1 | vila velha\n",
      "Processing Record 449 of Set 1 | lasa\n",
      "Processing Record 450 of Set 1 | port-gentil\n",
      "Processing Record 451 of Set 1 | pombas\n",
      "Processing Record 452 of Set 1 | anchorage\n",
      "Processing Record 453 of Set 1 | northam\n",
      "Processing Record 454 of Set 1 | college\n",
      "Processing Record 455 of Set 1 | gimli\n",
      "Processing Record 456 of Set 1 | impfondo\n",
      "Processing Record 457 of Set 1 | khartoum\n",
      "Processing Record 458 of Set 1 | luba\n",
      "Processing Record 459 of Set 1 | slave lake\n",
      "Processing Record 460 of Set 1 | katsuura\n",
      "Processing Record 461 of Set 1 | ossora\n",
      "Processing Record 462 of Set 1 | candolim\n",
      "Processing Record 463 of Set 1 | aykhal\n",
      "Processing Record 464 of Set 1 | jianhu\n",
      "Processing Record 465 of Set 1 | senneterre\n",
      "Processing Record 466 of Set 1 | binga\n",
      "Processing Record 467 of Set 1 | constitucion\n",
      "Processing Record 468 of Set 1 | kargasok\n",
      "Processing Record 469 of Set 1 | kushima\n",
      "Processing Record 470 of Set 1 | kloulklubed\n",
      "Processing Record 471 of Set 1 | honggang\n",
      "Processing Record 472 of Set 1 | pershotravneve\n",
      "Processing Record 473 of Set 1 | kualakapuas\n",
      "Processing Record 474 of Set 1 | cruzilia\n",
      "Processing Record 475 of Set 1 | sungairaya\n",
      "Processing Record 476 of Set 1 | talin\n",
      "Processing Record 477 of Set 1 | ahipara\n",
      "City not found. Skipping\n",
      "City not found. Skipping\n",
      "Processing Record 478 of Set 1 | khani\n",
      "Processing Record 479 of Set 1 | aqtobe\n",
      "City not found. Skipping\n",
      "Processing Record 480 of Set 1 | provideniya\n",
      "Processing Record 481 of Set 1 | gejiu\n",
      "Processing Record 482 of Set 1 | lubango\n",
      "Processing Record 483 of Set 1 | lianyuan\n",
      "Processing Record 484 of Set 1 | antalaha\n",
      "Processing Record 485 of Set 1 | dubovyy umet\n",
      "Processing Record 486 of Set 1 | usinsk\n",
      "Processing Record 487 of Set 1 | high level\n",
      "City not found. Skipping\n",
      "Processing Record 488 of Set 1 | kitob\n",
      "Processing Record 489 of Set 1 | kindu\n",
      "Processing Record 490 of Set 1 | turayf\n",
      "Processing Record 491 of Set 1 | castelo do piaui\n",
      "Processing Record 492 of Set 1 | conde\n",
      "Processing Record 493 of Set 1 | boden\n",
      "Processing Record 494 of Set 1 | waipawa\n",
      "Processing Record 495 of Set 1 | lumut\n",
      "Processing Record 496 of Set 1 | tura\n",
      "Processing Record 497 of Set 1 | bismarck\n",
      "Processing Record 498 of Set 1 | conceicao do araguaia\n",
      "Processing Record 499 of Set 1 | tual\n",
      "City not found. Skipping\n",
      "Processing Record 500 of Set 1 | banepa\n",
      "Processing Record 501 of Set 1 | miedzychod\n",
      "Processing Record 502 of Set 1 | bandarbeyla\n",
      "Processing Record 503 of Set 1 | port hedland\n",
      "Processing Record 504 of Set 1 | luderitz\n",
      "Processing Record 505 of Set 1 | vuktyl\n",
      "Processing Record 506 of Set 1 | pontianak\n",
      "Processing Record 507 of Set 1 | beroroha\n",
      "City not found. Skipping\n",
      "Processing Record 508 of Set 1 | yarega\n",
      "Processing Record 509 of Set 1 | caravelas\n",
      "Processing Record 510 of Set 1 | moron\n",
      "Processing Record 511 of Set 1 | araouane\n",
      "Processing Record 512 of Set 1 | yerbogachen\n",
      "Processing Record 513 of Set 1 | serowe\n",
      "Processing Record 514 of Set 1 | asau\n",
      "Processing Record 515 of Set 1 | mount gambier\n",
      "City not found. Skipping\n",
      "Processing Record 516 of Set 1 | yeniseysk\n",
      "Processing Record 517 of Set 1 | coachella\n",
      "Processing Record 518 of Set 1 | pacific grove\n",
      "Processing Record 519 of Set 1 | hualmay\n",
      "Processing Record 520 of Set 1 | den helder\n",
      "Processing Record 521 of Set 1 | kamyshlov\n",
      "City not found. Skipping\n",
      "Processing Record 522 of Set 1 | butembo\n",
      "Processing Record 523 of Set 1 | noumea\n",
      "Processing Record 524 of Set 1 | dahanu\n",
      "Processing Record 525 of Set 1 | qianjiang\n",
      "Processing Record 526 of Set 1 | vertou\n",
      "Processing Record 527 of Set 1 | villarrica\n",
      "Processing Record 528 of Set 1 | yagodnoye\n",
      "Processing Record 529 of Set 1 | zeya\n",
      "Processing Record 530 of Set 1 | teguise\n",
      "Processing Record 531 of Set 1 | barcelos\n",
      "Processing Record 532 of Set 1 | guerrero negro\n",
      "Processing Record 533 of Set 1 | vanavara\n",
      "Processing Record 534 of Set 1 | tromso\n",
      "Processing Record 535 of Set 1 | olavarria\n",
      "Processing Record 536 of Set 1 | manaure\n",
      "Processing Record 537 of Set 1 | dombas\n",
      "Processing Record 538 of Set 1 | birao\n",
      "Processing Record 539 of Set 1 | tigil\n",
      "Processing Record 540 of Set 1 | christchurch\n",
      "Processing Record 541 of Set 1 | kaohsiung\n",
      "Processing Record 542 of Set 1 | praia\n",
      "Processing Record 543 of Set 1 | matagami\n",
      "Processing Record 544 of Set 1 | vao\n",
      "Processing Record 545 of Set 1 | cedar city\n",
      "Processing Record 546 of Set 1 | namibe\n",
      "Processing Record 547 of Set 1 | ust-karsk\n",
      "Processing Record 548 of Set 1 | rawah\n",
      "Processing Record 549 of Set 1 | teya\n",
      "Processing Record 550 of Set 1 | camabatela\n",
      "Processing Record 551 of Set 1 | abu samrah\n",
      "Processing Record 552 of Set 1 | filingue\n",
      "Processing Record 553 of Set 1 | bairiki\n",
      "Processing Record 554 of Set 1 | vostok\n",
      "Processing Record 555 of Set 1 | poya\n",
      "Processing Record 556 of Set 1 | pamfila\n",
      "Processing Record 557 of Set 1 | sun city west\n",
      "Processing Record 558 of Set 1 | ous\n",
      "Processing Record 559 of Set 1 | hofn\n",
      "Processing Record 560 of Set 1 | sinnar\n",
      "Processing Record 561 of Set 1 | yoichi\n",
      "Processing Record 562 of Set 1 | staraya poltavka\n",
      "Processing Record 563 of Set 1 | clearwater\n",
      "Processing Record 564 of Set 1 | yaguajay\n",
      "Processing Record 565 of Set 1 | cacoal\n",
      "Processing Record 566 of Set 1 | broome\n",
      "Processing Record 567 of Set 1 | marsh harbour\n",
      "Processing Record 568 of Set 1 | saint-francois\n",
      "Processing Record 569 of Set 1 | ponta delgada\n",
      "Processing Record 570 of Set 1 | margate\n",
      "Processing Record 571 of Set 1 | mobaye\n",
      "Processing Record 572 of Set 1 | ostrovnoy\n",
      "Processing Record 573 of Set 1 | port macquarie\n",
      "City not found. Skipping\n",
      "Processing Record 574 of Set 1 | anori\n",
      "Processing Record 575 of Set 1 | pevek\n",
      "Processing Record 576 of Set 1 | alice springs\n",
      "Processing Record 577 of Set 1 | la libertad\n",
      "Processing Record 578 of Set 1 | teeli\n",
      "City not found. Skipping\n",
      "Processing Record 579 of Set 1 | tulagi\n",
      "Processing Record 580 of Set 1 | nome\n",
      "Processing Record 581 of Set 1 | mapiripan\n",
      "Processing Record 582 of Set 1 | florianopolis\n",
      "Processing Record 583 of Set 1 | pemangkat\n",
      "Processing Record 584 of Set 1 | caibarien\n",
      "City not found. Skipping\n",
      "Processing Record 585 of Set 1 | feicheng\n",
      "Processing Record 586 of Set 1 | kyzyl-suu\n",
      "Processing Record 587 of Set 1 | bonnyville\n",
      "City not found. Skipping\n",
      "Processing Record 588 of Set 1 | manali\n",
      "Processing Record 589 of Set 1 | kristiinankaupunki\n",
      "Processing Record 590 of Set 1 | khandbari\n",
      "City not found. Skipping\n",
      "Processing Record 591 of Set 1 | sain alto\n"
     ]
    }
   ],
   "source": [
    "cities_df = pd.DataFrame(cities)\r\n",
    "\r\n",
    "print(\"Beginning Data Retrieval\")\r\n",
    "print(\"-----------------------------\")\r\n",
    "\r\n",
    "cities_df\r\n",
    "\r\n",
    "working_cities=[]\r\n",
    "lat = []\r\n",
    "lng = []\r\n",
    "max_temp = []\r\n",
    "humidity = []\r\n",
    "cloudiness = []\r\n",
    "wind_speed = []\r\n",
    "country = []\r\n",
    "date = []\r\n",
    "\r\n",
    "for index, row in cities_df.iterrows():\r\n",
    "\r\n",
    "    url = \"http://api.openweathermap.org/data/2.5/weather?\"\r\n",
    "    city = row[0]\r\n",
    "    unit = \"imperial\"\r\n",
    "    api_key = weather_api_key\r\n",
    "\r\n",
    "    query_url = f\"{url}q={city}&appid={api_key}&units={unit}\"\r\n",
    "\r\n",
    "\r\n",
    "    cities_json = requests.get(query_url).json()\r\n",
    "\r\n",
    "    #print(json.dumps(cities_json, indent=4, sort_keys=True))\r\n",
    "    if(\"weather\" in cities_json):\r\n",
    "        working_cities.append(cities_json['name'])\r\n",
    "        lat.append(cities_json['coord']['lat'])\r\n",
    "        lng.append(cities_json['coord']['lon'])\r\n",
    "        max_temp.append(cities_json['main']['temp_max'])\r\n",
    "        humidity.append(cities_json['main']['humidity'])\r\n",
    "        cloudiness.append(cities_json['clouds']['all'])\r\n",
    "        wind_speed.append(cities_json['wind']['speed'])\r\n",
    "        country.append(cities_json['sys']['country'])\r\n",
    "        date.append(cities_json['dt'])\r\n",
    "        print(f\"Processing Record {len(working_cities)} of Set 1 | {city}\")\r\n",
    "\r\n",
    "    else:\r\n",
    "        print(\"City not found. Skipping\")"
   ]
  },
  {
   "cell_type": "markdown",
   "metadata": {},
   "source": [
    "### Convert Raw Data to DataFrame\n",
    "* Export the city data into a .csv.\n",
    "* Display the DataFrame"
   ]
  },
  {
   "cell_type": "code",
   "execution_count": 92,
   "metadata": {},
   "outputs": [
    {
     "data": {
      "text/html": [
       "<div>\n",
       "<style scoped>\n",
       "    .dataframe tbody tr th:only-of-type {\n",
       "        vertical-align: middle;\n",
       "    }\n",
       "\n",
       "    .dataframe tbody tr th {\n",
       "        vertical-align: top;\n",
       "    }\n",
       "\n",
       "    .dataframe thead th {\n",
       "        text-align: right;\n",
       "    }\n",
       "</style>\n",
       "<table border=\"1\" class=\"dataframe\">\n",
       "  <thead>\n",
       "    <tr style=\"text-align: right;\">\n",
       "      <th></th>\n",
       "      <th>City</th>\n",
       "      <th>Lat</th>\n",
       "      <th>Lng</th>\n",
       "      <th>Max Temp</th>\n",
       "      <th>Humidity</th>\n",
       "      <th>Cloudiness</th>\n",
       "      <th>Wind Speed</th>\n",
       "      <th>Country</th>\n",
       "      <th>Date</th>\n",
       "    </tr>\n",
       "  </thead>\n",
       "  <tbody>\n",
       "    <tr>\n",
       "      <th>0</th>\n",
       "      <td>Qaanaaq</td>\n",
       "      <td>77.4840</td>\n",
       "      <td>-69.3632</td>\n",
       "      <td>38.07</td>\n",
       "      <td>76</td>\n",
       "      <td>59</td>\n",
       "      <td>2.01</td>\n",
       "      <td>GL</td>\n",
       "      <td>1624700297</td>\n",
       "    </tr>\n",
       "    <tr>\n",
       "      <th>1</th>\n",
       "      <td>Miles City</td>\n",
       "      <td>46.4083</td>\n",
       "      <td>-105.8406</td>\n",
       "      <td>58.17</td>\n",
       "      <td>62</td>\n",
       "      <td>75</td>\n",
       "      <td>3.44</td>\n",
       "      <td>US</td>\n",
       "      <td>1624700297</td>\n",
       "    </tr>\n",
       "    <tr>\n",
       "      <th>2</th>\n",
       "      <td>San Policarpo</td>\n",
       "      <td>12.1791</td>\n",
       "      <td>125.5072</td>\n",
       "      <td>83.39</td>\n",
       "      <td>72</td>\n",
       "      <td>100</td>\n",
       "      <td>2.21</td>\n",
       "      <td>PH</td>\n",
       "      <td>1624700298</td>\n",
       "    </tr>\n",
       "    <tr>\n",
       "      <th>3</th>\n",
       "      <td>Sitka</td>\n",
       "      <td>57.0531</td>\n",
       "      <td>-135.3300</td>\n",
       "      <td>55.29</td>\n",
       "      <td>88</td>\n",
       "      <td>90</td>\n",
       "      <td>5.75</td>\n",
       "      <td>US</td>\n",
       "      <td>1624700298</td>\n",
       "    </tr>\n",
       "    <tr>\n",
       "      <th>4</th>\n",
       "      <td>Lebu</td>\n",
       "      <td>-37.6167</td>\n",
       "      <td>-73.6500</td>\n",
       "      <td>43.77</td>\n",
       "      <td>81</td>\n",
       "      <td>6</td>\n",
       "      <td>7.63</td>\n",
       "      <td>CL</td>\n",
       "      <td>1624700299</td>\n",
       "    </tr>\n",
       "    <tr>\n",
       "      <th>...</th>\n",
       "      <td>...</td>\n",
       "      <td>...</td>\n",
       "      <td>...</td>\n",
       "      <td>...</td>\n",
       "      <td>...</td>\n",
       "      <td>...</td>\n",
       "      <td>...</td>\n",
       "      <td>...</td>\n",
       "      <td>...</td>\n",
       "    </tr>\n",
       "    <tr>\n",
       "      <th>586</th>\n",
       "      <td>Bonnyville</td>\n",
       "      <td>54.2668</td>\n",
       "      <td>-110.7350</td>\n",
       "      <td>58.80</td>\n",
       "      <td>79</td>\n",
       "      <td>74</td>\n",
       "      <td>2.82</td>\n",
       "      <td>CA</td>\n",
       "      <td>1624700517</td>\n",
       "    </tr>\n",
       "    <tr>\n",
       "      <th>587</th>\n",
       "      <td>Manali</td>\n",
       "      <td>13.1667</td>\n",
       "      <td>80.2667</td>\n",
       "      <td>93.29</td>\n",
       "      <td>61</td>\n",
       "      <td>79</td>\n",
       "      <td>5.75</td>\n",
       "      <td>IN</td>\n",
       "      <td>1624700517</td>\n",
       "    </tr>\n",
       "    <tr>\n",
       "      <th>588</th>\n",
       "      <td>Kristinestad</td>\n",
       "      <td>62.2743</td>\n",
       "      <td>21.3760</td>\n",
       "      <td>67.64</td>\n",
       "      <td>57</td>\n",
       "      <td>72</td>\n",
       "      <td>13.02</td>\n",
       "      <td>FI</td>\n",
       "      <td>1624700518</td>\n",
       "    </tr>\n",
       "    <tr>\n",
       "      <th>589</th>\n",
       "      <td>Khanbari</td>\n",
       "      <td>27.3747</td>\n",
       "      <td>87.2039</td>\n",
       "      <td>82.94</td>\n",
       "      <td>74</td>\n",
       "      <td>75</td>\n",
       "      <td>5.06</td>\n",
       "      <td>NP</td>\n",
       "      <td>1624700518</td>\n",
       "    </tr>\n",
       "    <tr>\n",
       "      <th>590</th>\n",
       "      <td>Sain Alto</td>\n",
       "      <td>23.5833</td>\n",
       "      <td>-103.2500</td>\n",
       "      <td>63.00</td>\n",
       "      <td>70</td>\n",
       "      <td>5</td>\n",
       "      <td>4.63</td>\n",
       "      <td>MX</td>\n",
       "      <td>1624700519</td>\n",
       "    </tr>\n",
       "  </tbody>\n",
       "</table>\n",
       "<p>591 rows × 9 columns</p>\n",
       "</div>"
      ],
      "text/plain": [
       "              City      Lat       Lng  Max Temp  Humidity  Cloudiness  \\\n",
       "0          Qaanaaq  77.4840  -69.3632     38.07        76          59   \n",
       "1       Miles City  46.4083 -105.8406     58.17        62          75   \n",
       "2    San Policarpo  12.1791  125.5072     83.39        72         100   \n",
       "3            Sitka  57.0531 -135.3300     55.29        88          90   \n",
       "4             Lebu -37.6167  -73.6500     43.77        81           6   \n",
       "..             ...      ...       ...       ...       ...         ...   \n",
       "586     Bonnyville  54.2668 -110.7350     58.80        79          74   \n",
       "587         Manali  13.1667   80.2667     93.29        61          79   \n",
       "588   Kristinestad  62.2743   21.3760     67.64        57          72   \n",
       "589       Khanbari  27.3747   87.2039     82.94        74          75   \n",
       "590      Sain Alto  23.5833 -103.2500     63.00        70           5   \n",
       "\n",
       "     Wind Speed Country        Date  \n",
       "0          2.01      GL  1624700297  \n",
       "1          3.44      US  1624700297  \n",
       "2          2.21      PH  1624700298  \n",
       "3          5.75      US  1624700298  \n",
       "4          7.63      CL  1624700299  \n",
       "..          ...     ...         ...  \n",
       "586        2.82      CA  1624700517  \n",
       "587        5.75      IN  1624700517  \n",
       "588       13.02      FI  1624700518  \n",
       "589        5.06      NP  1624700518  \n",
       "590        4.63      MX  1624700519  \n",
       "\n",
       "[591 rows x 9 columns]"
      ]
     },
     "execution_count": 92,
     "metadata": {},
     "output_type": "execute_result"
    }
   ],
   "source": [
    "cities_dict = {\r\n",
    "    \"City\": working_cities,\r\n",
    "    \"Lat\": lat,\r\n",
    "    \"Lng\": lng,\r\n",
    "    \"Max Temp\": max_temp,\r\n",
    "    \"Humidity\": humidity,\r\n",
    "    \"Cloudiness\": cloudiness,\r\n",
    "    \"Wind Speed\": wind_speed,\r\n",
    "    \"Country\": country,\r\n",
    "    \"Date\": date\r\n",
    "}\r\n",
    "\r\n",
    "cities_data = pd.DataFrame(cities_dict)\r\n",
    "\r\n",
    "cities_data.to_csv(output_data_file)\r\n",
    "\r\n",
    "cities_data"
   ]
  },
  {
   "cell_type": "code",
   "execution_count": 93,
   "metadata": {},
   "outputs": [
    {
     "data": {
      "text/html": [
       "<div>\n",
       "<style scoped>\n",
       "    .dataframe tbody tr th:only-of-type {\n",
       "        vertical-align: middle;\n",
       "    }\n",
       "\n",
       "    .dataframe tbody tr th {\n",
       "        vertical-align: top;\n",
       "    }\n",
       "\n",
       "    .dataframe thead th {\n",
       "        text-align: right;\n",
       "    }\n",
       "</style>\n",
       "<table border=\"1\" class=\"dataframe\">\n",
       "  <thead>\n",
       "    <tr style=\"text-align: right;\">\n",
       "      <th></th>\n",
       "      <th>Lat</th>\n",
       "      <th>Lng</th>\n",
       "      <th>Max Temp</th>\n",
       "      <th>Humidity</th>\n",
       "      <th>Cloudiness</th>\n",
       "      <th>Wind Speed</th>\n",
       "      <th>Date</th>\n",
       "    </tr>\n",
       "  </thead>\n",
       "  <tbody>\n",
       "    <tr>\n",
       "      <th>count</th>\n",
       "      <td>591.000000</td>\n",
       "      <td>591.000000</td>\n",
       "      <td>591.000000</td>\n",
       "      <td>591.000000</td>\n",
       "      <td>591.000000</td>\n",
       "      <td>591.000000</td>\n",
       "      <td>5.910000e+02</td>\n",
       "    </tr>\n",
       "    <tr>\n",
       "      <th>mean</th>\n",
       "      <td>21.074078</td>\n",
       "      <td>17.455359</td>\n",
       "      <td>71.179120</td>\n",
       "      <td>67.661591</td>\n",
       "      <td>55.790186</td>\n",
       "      <td>7.367547</td>\n",
       "      <td>1.624700e+09</td>\n",
       "    </tr>\n",
       "    <tr>\n",
       "      <th>std</th>\n",
       "      <td>32.747203</td>\n",
       "      <td>88.869544</td>\n",
       "      <td>15.375226</td>\n",
       "      <td>23.817609</td>\n",
       "      <td>37.719571</td>\n",
       "      <td>5.173240</td>\n",
       "      <td>8.773658e+01</td>\n",
       "    </tr>\n",
       "    <tr>\n",
       "      <th>min</th>\n",
       "      <td>-54.800000</td>\n",
       "      <td>-179.166700</td>\n",
       "      <td>28.350000</td>\n",
       "      <td>4.000000</td>\n",
       "      <td>0.000000</td>\n",
       "      <td>0.000000</td>\n",
       "      <td>1.624700e+09</td>\n",
       "    </tr>\n",
       "    <tr>\n",
       "      <th>25%</th>\n",
       "      <td>-3.663100</td>\n",
       "      <td>-61.060250</td>\n",
       "      <td>60.675000</td>\n",
       "      <td>52.500000</td>\n",
       "      <td>18.000000</td>\n",
       "      <td>3.440000</td>\n",
       "      <td>1.624700e+09</td>\n",
       "    </tr>\n",
       "    <tr>\n",
       "      <th>50%</th>\n",
       "      <td>25.519800</td>\n",
       "      <td>21.376000</td>\n",
       "      <td>73.020000</td>\n",
       "      <td>75.000000</td>\n",
       "      <td>66.000000</td>\n",
       "      <td>6.220000</td>\n",
       "      <td>1.624700e+09</td>\n",
       "    </tr>\n",
       "    <tr>\n",
       "      <th>75%</th>\n",
       "      <td>49.950750</td>\n",
       "      <td>95.655900</td>\n",
       "      <td>81.375000</td>\n",
       "      <td>87.000000</td>\n",
       "      <td>90.000000</td>\n",
       "      <td>9.965000</td>\n",
       "      <td>1.624700e+09</td>\n",
       "    </tr>\n",
       "    <tr>\n",
       "      <th>max</th>\n",
       "      <td>78.218600</td>\n",
       "      <td>179.316700</td>\n",
       "      <td>111.540000</td>\n",
       "      <td>100.000000</td>\n",
       "      <td>100.000000</td>\n",
       "      <td>28.700000</td>\n",
       "      <td>1.624701e+09</td>\n",
       "    </tr>\n",
       "  </tbody>\n",
       "</table>\n",
       "</div>"
      ],
      "text/plain": [
       "              Lat         Lng    Max Temp    Humidity  Cloudiness  Wind Speed  \\\n",
       "count  591.000000  591.000000  591.000000  591.000000  591.000000  591.000000   \n",
       "mean    21.074078   17.455359   71.179120   67.661591   55.790186    7.367547   \n",
       "std     32.747203   88.869544   15.375226   23.817609   37.719571    5.173240   \n",
       "min    -54.800000 -179.166700   28.350000    4.000000    0.000000    0.000000   \n",
       "25%     -3.663100  -61.060250   60.675000   52.500000   18.000000    3.440000   \n",
       "50%     25.519800   21.376000   73.020000   75.000000   66.000000    6.220000   \n",
       "75%     49.950750   95.655900   81.375000   87.000000   90.000000    9.965000   \n",
       "max     78.218600  179.316700  111.540000  100.000000  100.000000   28.700000   \n",
       "\n",
       "               Date  \n",
       "count  5.910000e+02  \n",
       "mean   1.624700e+09  \n",
       "std    8.773658e+01  \n",
       "min    1.624700e+09  \n",
       "25%    1.624700e+09  \n",
       "50%    1.624700e+09  \n",
       "75%    1.624700e+09  \n",
       "max    1.624701e+09  "
      ]
     },
     "execution_count": 93,
     "metadata": {},
     "output_type": "execute_result"
    }
   ],
   "source": [
    "cities_data.describe()"
   ]
  },
  {
   "cell_type": "markdown",
   "metadata": {},
   "source": [
    "## Inspect the data and remove the cities where the humidity > 100%.\n",
    "----\n",
    "Skip this step if there are no cities that have humidity > 100%. "
   ]
  },
  {
   "cell_type": "code",
   "execution_count": 94,
   "metadata": {},
   "outputs": [
    {
     "data": {
      "text/html": [
       "<div>\n",
       "<style scoped>\n",
       "    .dataframe tbody tr th:only-of-type {\n",
       "        vertical-align: middle;\n",
       "    }\n",
       "\n",
       "    .dataframe tbody tr th {\n",
       "        vertical-align: top;\n",
       "    }\n",
       "\n",
       "    .dataframe thead th {\n",
       "        text-align: right;\n",
       "    }\n",
       "</style>\n",
       "<table border=\"1\" class=\"dataframe\">\n",
       "  <thead>\n",
       "    <tr style=\"text-align: right;\">\n",
       "      <th></th>\n",
       "      <th>City</th>\n",
       "      <th>Lat</th>\n",
       "      <th>Lng</th>\n",
       "      <th>Max Temp</th>\n",
       "      <th>Humidity</th>\n",
       "      <th>Cloudiness</th>\n",
       "      <th>Wind Speed</th>\n",
       "      <th>Country</th>\n",
       "      <th>Date</th>\n",
       "    </tr>\n",
       "  </thead>\n",
       "  <tbody>\n",
       "  </tbody>\n",
       "</table>\n",
       "</div>"
      ],
      "text/plain": [
       "Empty DataFrame\n",
       "Columns: [City, Lat, Lng, Max Temp, Humidity, Cloudiness, Wind Speed, Country, Date]\n",
       "Index: []"
      ]
     },
     "execution_count": 94,
     "metadata": {},
     "output_type": "execute_result"
    }
   ],
   "source": [
    "cities_data.loc[cities_data[\"Humidity\"] > 100]"
   ]
  },
  {
   "cell_type": "code",
   "execution_count": 82,
   "metadata": {},
   "outputs": [],
   "source": [
    "#  Get the indices of cities that have humidity over 100%.\n"
   ]
  },
  {
   "cell_type": "code",
   "execution_count": 83,
   "metadata": {},
   "outputs": [],
   "source": [
    "# Make a new DataFrame equal to the city data to drop all humidity outliers by index.\n",
    "# Passing \"inplace=False\" will make a copy of the city_data DataFrame, which we call \"clean_city_data\".\n"
   ]
  },
  {
   "cell_type": "markdown",
   "metadata": {},
   "source": [
    "## Plotting the Data\n",
    "* Use proper labeling of the plots using plot titles (including date of analysis) and axes labels.\n",
    "* Save the plotted figures as .pngs."
   ]
  },
  {
   "cell_type": "markdown",
   "metadata": {},
   "source": [
    "## Latitude vs. Temperature Plot"
   ]
  },
  {
   "cell_type": "code",
   "execution_count": 154,
   "metadata": {
    "scrolled": true
   },
   "outputs": [
    {
     "data": {
      "image/png": "[encoded data removed]",
      "text/plain": [
       "<Figure size 432x288 with 1 Axes>"
      ]
     },
     "metadata": {
      "needs_background": "light"
     },
     "output_type": "display_data"
    }
   ],
   "source": [
    "title = \"City Latitude vs. Max Temperature (05/26/21)\"\r\n",
    "\r\n",
    "x_axis = cities_data[\"Lat\"]\r\n",
    "x_label = \"Latitude\"\r\n",
    "\r\n",
    "y_axis = cities_data[\"Max Temp\"]\r\n",
    "y_label = \"Max Temparature (F)\"\r\n",
    "\r\n",
    "plt.scatter(x_axis, y_axis)\r\n",
    "plt.title(title)\r\n",
    "plt.xlabel(x_label)\r\n",
    "plt.ylabel(y_label)\r\n",
    "plt.grid()\r\n",
    "\r\n",
    "plt.savefig(\"output_data/Fig1.jpg\")\r\n",
    "\r\n",
    "plt.show()\r\n"
   ]
  },
  {
   "cell_type": "markdown",
   "metadata": {},
   "source": [
    "<b>The code above created a scatter plot that contains the Latitudes and Max Temperatures of all the cities in cities_data. The x-axis plots the Latitude and the y-axis plots the Max Temperature in Fahrenheit. It also exports the graph in JPG format as Fig1.<b>"
   ]
  },
  {
   "cell_type": "markdown",
   "metadata": {},
   "source": [
    "## Latitude vs. Humidity Plot"
   ]
  },
  {
   "cell_type": "code",
   "execution_count": 155,
   "metadata": {},
   "outputs": [
    {
     "data": {
      "image/png": "[encoded data removed]",
      "text/plain": [
       "<Figure size 432x288 with 1 Axes>"
      ]
     },
     "metadata": {
      "needs_background": "light"
     },
     "output_type": "display_data"
    }
   ],
   "source": [
    "title = \"City Latitude vs. Humidity (05/26/21)\"\r\n",
    "\r\n",
    "x_axis = cities_data[\"Lat\"]\r\n",
    "x_label = \"Latitude\"\r\n",
    "\r\n",
    "y_axis = cities_data[\"Humidity\"]\r\n",
    "y_label = \"Humidity (%)\"\r\n",
    "\r\n",
    "plt.scatter(x_axis, y_axis)\r\n",
    "plt.title(title)\r\n",
    "plt.xlabel(x_label)\r\n",
    "plt.ylabel(y_label)\r\n",
    "plt.grid()\r\n",
    "\r\n",
    "plt.savefig(\"output_data/Fig2.jpg\")\r\n",
    "\r\n",
    "plt.show()"
   ]
  },
  {
   "cell_type": "markdown",
   "metadata": {},
   "source": [
    "<b>The code above created a scatter plot that contains the Latitudes and Humidity values of all the cities in cities_data. The x-axis plots the Latitude and the y-axis plots the Humidity in Percentages. It also exports the graph in JPG format as Fig2.<b>"
   ]
  },
  {
   "cell_type": "markdown",
   "metadata": {},
   "source": [
    "## Latitude vs. Cloudiness Plot"
   ]
  },
  {
   "cell_type": "code",
   "execution_count": 156,
   "metadata": {},
   "outputs": [
    {
     "data": {
      "image/png": "[encoded data removed]",
      "text/plain": [
       "<Figure size 432x288 with 1 Axes>"
      ]
     },
     "metadata": {
      "needs_background": "light"
     },
     "output_type": "display_data"
    }
   ],
   "source": [
    "title = \"City Latitude vs. Cloudiness (05/26/21)\"\r\n",
    "\r\n",
    "x_axis = cities_data[\"Lat\"]\r\n",
    "x_label = \"Latitude\"\r\n",
    "\r\n",
    "y_axis = cities_data[\"Cloudiness\"]\r\n",
    "y_label = \"Cloudiness (%)\"\r\n",
    "\r\n",
    "plt.scatter(x_axis, y_axis)\r\n",
    "plt.title(title)\r\n",
    "plt.xlabel(x_label)\r\n",
    "plt.ylabel(y_label)\r\n",
    "plt.grid()\r\n",
    "\r\n",
    "plt.savefig(\"output_data/Fig3.jpg\")\r\n",
    "\r\n",
    "plt.show()"
   ]
  },
  {
   "cell_type": "markdown",
   "metadata": {},
   "source": [
    "<b>The code above created a scatter plot that contains the Latitudes and Cloudiness values of all the cities in cities_data. The x-axis plots the Latitude and the y-axis plots the Cloudiness values in Percentages. It also exports the graph in JPG format as Fig3.<b>"
   ]
  },
  {
   "cell_type": "markdown",
   "metadata": {},
   "source": [
    "## Latitude vs. Wind Speed Plot"
   ]
  },
  {
   "cell_type": "code",
   "execution_count": 157,
   "metadata": {},
   "outputs": [
    {
     "data": {
      "image/png": "[encoded data removed]",
      "text/plain": [
       "<Figure size 432x288 with 1 Axes>"
      ]
     },
     "metadata": {
      "needs_background": "light"
     },
     "output_type": "display_data"
    }
   ],
   "source": [
    "title = \"City Latitude vs. Wind Speed (05/26/21)\"\r\n",
    "\r\n",
    "x_axis = cities_data[\"Lat\"]\r\n",
    "x_label = \"Latitude\"\r\n",
    "\r\n",
    "y_axis = cities_data[\"Wind Speed\"]\r\n",
    "y_label = \"Wind Speed (mph)\"\r\n",
    "\r\n",
    "plt.scatter(x_axis, y_axis)\r\n",
    "plt.title(title)\r\n",
    "plt.xlabel(x_label)\r\n",
    "plt.ylabel(y_label)\r\n",
    "plt.grid()\r\n",
    "\r\n",
    "plt.savefig(\"output_data/Fig4.jpg\")\r\n",
    "\r\n",
    "plt.show()"
   ]
  },
  {
   "cell_type": "markdown",
   "metadata": {},
   "source": [
    "<b>The code above created a scatter plot that contains the Latitudes and Wind Speed of all the cities in cities_data. The x-axis plots the Latitude and the y-axis plots the Wind Speed in Miles per Hour. It also exports the graph in JPG format as Fig4.<b>"
   ]
  },
  {
   "cell_type": "markdown",
   "metadata": {},
   "source": [
    "## Linear Regression"
   ]
  },
  {
   "cell_type": "code",
   "execution_count": 107,
   "metadata": {},
   "outputs": [],
   "source": [
    "cities_n_hem = cities_data.loc[cities_data[\"Lat\"] > 0]\r\n",
    "\r\n",
    "cities_s_hem = cities_data.loc[cities_data[\"Lat\"] < 0]"
   ]
  },
  {
   "cell_type": "markdown",
   "metadata": {},
   "source": [
    "####  Northern Hemisphere - Max Temp vs. Latitude Linear Regression"
   ]
  },
  {
   "cell_type": "code",
   "execution_count": 132,
   "metadata": {},
   "outputs": [
    {
     "name": "stdout",
     "output_type": "stream",
     "text": [
      "The r-value is: 0.3611736356793827\n"
     ]
    },
    {
     "data": {
      "image/png": "[encoded data removed]",
      "text/plain": [
       "<Figure size 432x288 with 1 Axes>"
      ]
     },
     "metadata": {
      "needs_background": "light"
     },
     "output_type": "display_data"
    }
   ],
   "source": [
    "x_axis = cities_n_hem[\"Lat\"]\r\n",
    "x_label = \"Latitude\"\r\n",
    "\r\n",
    "y_axis = cities_n_hem[\"Max Temp\"]\r\n",
    "y_label = \"Max Temp\"\r\n",
    "\r\n",
    "plt.scatter(x_axis, y_axis)\r\n",
    "plt.xlabel(x_label)\r\n",
    "plt.ylabel(y_label)\r\n",
    "\r\n",
    "n_slope, n_int, n_r, n_p, n_std_err = st.linregress(x_axis, y_axis)\r\n",
    "n_fit = n_slope * x_axis + n_int\r\n",
    "line_eq = f\"y = {str(round(n_slope, 2))}x + {str(round(n_int, 2))}\"\r\n",
    "\r\n",
    "plt.plot(x_axis,n_fit,\"--\", color=\"red\")\r\n",
    "plt.annotate(line_eq, (0,40), fontsize=15, color=\"red\")\r\n",
    "\r\n",
    "print(f\"The r-value is: {n_r**2}\")\r\n",
    "\r\n",
    "plt.show()"
   ]
  },
  {
   "cell_type": "markdown",
   "metadata": {},
   "source": [
    "####  Southern Hemisphere - Max Temp vs. Latitude Linear Regression"
   ]
  },
  {
   "cell_type": "code",
   "execution_count": 133,
   "metadata": {},
   "outputs": [
    {
     "name": "stdout",
     "output_type": "stream",
     "text": [
      "The r-value is: 0.6280389990311877\n"
     ]
    },
    {
     "data": {
      "image/png": "[encoded data removed]",
      "text/plain": [
       "<Figure size 432x288 with 1 Axes>"
      ]
     },
     "metadata": {
      "needs_background": "light"
     },
     "output_type": "display_data"
    }
   ],
   "source": [
    "x_axis = cities_s_hem[\"Lat\"]\r\n",
    "x_label = \"Latitude\"\r\n",
    "\r\n",
    "y_axis = cities_s_hem[\"Max Temp\"]\r\n",
    "y_label = \"Max Temp\"\r\n",
    "\r\n",
    "plt.scatter(x_axis, y_axis)\r\n",
    "plt.xlabel(x_label)\r\n",
    "plt.ylabel(y_label)\r\n",
    "\r\n",
    "s_slope, s_int, s_r, s_p, s_std_err = st.linregress(x_axis, y_axis)\r\n",
    "s_fit = s_slope * x_axis + s_int\r\n",
    "line_eq = f\"y = {str(round(s_slope, 2))}x + {str(round(s_int, 2))}\"\r\n",
    "\r\n",
    "plt.plot(x_axis,s_fit,\"--\", color=\"red\")\r\n",
    "plt.annotate(line_eq, (-55,90), fontsize=15, color=\"red\")\r\n",
    "\r\n",
    "print(f\"The r-value is: {s_r**2}\")\r\n",
    "\r\n",
    "plt.show()"
   ]
  },
  {
   "cell_type": "markdown",
   "metadata": {},
   "source": [
    "<b>The first graph showcases the linear regression between Latitude and Max Temperature of cities located in the northern hemisphere, whereas the second graph showcases the linear regression between Latitude and Max Temperature of cities located in the southern hemisphere. I noticed that the linear regression in the first graph has a negative slope, which makes sense as the futher away from the equator you travel, the colder it gets. I also noticed that the regression in the second graph has a positive slope, which also makes sense since the further away you travel from the equator, the colder it gets. Hence, in the northern hemisphere, there is a negative correlation between the Lattitude and Max Temperature, whereas in the southern hemisphere, there is a positive correlation between the Lattitude and Max Temperature.<b>"
   ]
  },
  {
   "cell_type": "markdown",
   "metadata": {},
   "source": [
    "####  Northern Hemisphere - Humidity (%) vs. Latitude Linear Regression"
   ]
  },
  {
   "cell_type": "code",
   "execution_count": 136,
   "metadata": {},
   "outputs": [
    {
     "name": "stdout",
     "output_type": "stream",
     "text": [
      "The r-value is: 0.0005467710909389416\n"
     ]
    },
    {
     "data": {
      "image/png": "[encoded data removed]",
      "text/plain": [
       "<Figure size 432x288 with 1 Axes>"
      ]
     },
     "metadata": {
      "needs_background": "light"
     },
     "output_type": "display_data"
    }
   ],
   "source": [
    "x_axis = cities_n_hem[\"Lat\"]\r\n",
    "x_label = \"Latitude\"\r\n",
    "\r\n",
    "y_axis = cities_n_hem[\"Humidity\"]\r\n",
    "y_label = \"Humidity\"\r\n",
    "\r\n",
    "plt.scatter(x_axis, y_axis)\r\n",
    "plt.xlabel(x_label)\r\n",
    "plt.ylabel(y_label)\r\n",
    "\r\n",
    "n_slope, n_int, n_r, n_p, n_std_err = st.linregress(x_axis, y_axis)\r\n",
    "n_fit = n_slope * x_axis + n_int\r\n",
    "line_eq = f\"y = {str(round(n_slope, 2))}x + {str(round(n_int, 2))}\"\r\n",
    "\r\n",
    "plt.plot(x_axis,n_fit,\"--\", color=\"red\")\r\n",
    "plt.annotate(line_eq, (45,10), fontsize=15, color=\"red\")\r\n",
    "\r\n",
    "print(f\"The r-value is: {n_r**2}\")\r\n",
    "\r\n",
    "plt.show()"
   ]
  },
  {
   "cell_type": "markdown",
   "metadata": {},
   "source": [
    "####  Southern Hemisphere - Humidity (%) vs. Latitude Linear Regression"
   ]
  },
  {
   "cell_type": "code",
   "execution_count": 145,
   "metadata": {},
   "outputs": [
    {
     "name": "stdout",
     "output_type": "stream",
     "text": [
      "The r-value is: 0.0010088449049784184\n"
     ]
    },
    {
     "data": {
      "image/png": "[encoded data removed]",
      "text/plain": [
       "<Figure size 432x288 with 1 Axes>"
      ]
     },
     "metadata": {
      "needs_background": "light"
     },
     "output_type": "display_data"
    }
   ],
   "source": [
    "x_axis = cities_s_hem[\"Lat\"]\r\n",
    "x_label = \"Latitude\"\r\n",
    "\r\n",
    "y_axis = cities_s_hem[\"Humidity\"]\r\n",
    "y_label = \"Humidity\"\r\n",
    "\r\n",
    "plt.scatter(x_axis, y_axis)\r\n",
    "plt.xlabel(x_label)\r\n",
    "plt.ylabel(y_label)\r\n",
    "\r\n",
    "s_slope, s_int, s_r, s_p, s_std_err = st.linregress(x_axis, y_axis)\r\n",
    "s_fit = s_slope * x_axis + s_int\r\n",
    "line_eq = f\"y = {str(round(s_slope, 2))}x + {str(round(s_int, 2))}\"\r\n",
    "\r\n",
    "plt.plot(x_axis,s_fit,\"--\", color=\"red\")\r\n",
    "plt.annotate(line_eq, (-55,20), fontsize=15, color=\"red\")\r\n",
    "\r\n",
    "print(f\"The r-value is: {s_r**2}\")\r\n",
    "\r\n",
    "plt.show()"
   ]
  },
  {
   "cell_type": "markdown",
   "metadata": {},
   "source": [
    "<b>The first graph showcases the linear regression between Latitude and Humidity of cities located in the northern hemisphere, whereas the second graph showcases the linear regression between Latitude and Humidity of cities located in the southern hemisphere. Due to the low r-values, it seems to me that there does not seem to be a correlation between the Lattitudes and Humidity values in both the northern and southern hemisphere.<b>"
   ]
  },
  {
   "cell_type": "markdown",
   "metadata": {},
   "source": [
    "####  Northern Hemisphere - Cloudiness (%) vs. Latitude Linear Regression"
   ]
  },
  {
   "cell_type": "code",
   "execution_count": 143,
   "metadata": {},
   "outputs": [
    {
     "name": "stdout",
     "output_type": "stream",
     "text": [
      "The r-value is: 0.002711430813389978\n"
     ]
    },
    {
     "data": {
      "image/png": "[encoded data removed]",
      "text/plain": [
       "<Figure size 432x288 with 1 Axes>"
      ]
     },
     "metadata": {
      "needs_background": "light"
     },
     "output_type": "display_data"
    }
   ],
   "source": [
    "x_axis = cities_n_hem[\"Lat\"]\r\n",
    "x_label = \"Latitude\"\r\n",
    "\r\n",
    "y_axis = cities_n_hem[\"Cloudiness\"]\r\n",
    "y_label = \"Cloudiness\"\r\n",
    "\r\n",
    "plt.scatter(x_axis, y_axis)\r\n",
    "plt.xlabel(x_label)\r\n",
    "plt.ylabel(y_label)\r\n",
    "\r\n",
    "n_slope, n_int, n_r, n_p, n_std_err = st.linregress(x_axis, y_axis)\r\n",
    "n_fit = n_slope * x_axis + n_int\r\n",
    "line_eq = f\"y = {str(round(n_slope, 2))}x + {str(round(n_int, 2))}\"\r\n",
    "\r\n",
    "plt.plot(x_axis,n_fit,\"--\", color=\"red\")\r\n",
    "plt.annotate(line_eq, (45,10), fontsize=15, color=\"red\")\r\n",
    "\r\n",
    "print(f\"The r-value is: {n_r**2}\")\r\n",
    "\r\n",
    "plt.show()"
   ]
  },
  {
   "cell_type": "markdown",
   "metadata": {},
   "source": [
    "####  Southern Hemisphere - Cloudiness (%) vs. Latitude Linear Regression"
   ]
  },
  {
   "cell_type": "code",
   "execution_count": 146,
   "metadata": {},
   "outputs": [
    {
     "name": "stdout",
     "output_type": "stream",
     "text": [
      "The r-value is: 8.999585078136331e-05\n"
     ]
    },
    {
     "data": {
      "image/png": "[encoded data removed]",
      "text/plain": [
       "<Figure size 432x288 with 1 Axes>"
      ]
     },
     "metadata": {
      "needs_background": "light"
     },
     "output_type": "display_data"
    }
   ],
   "source": [
    "x_axis = cities_s_hem[\"Lat\"]\r\n",
    "x_label = \"Latitude\"\r\n",
    "\r\n",
    "y_axis = cities_s_hem[\"Cloudiness\"]\r\n",
    "y_label = \"Cloudiness\"\r\n",
    "\r\n",
    "plt.scatter(x_axis, y_axis)\r\n",
    "plt.xlabel(x_label)\r\n",
    "plt.ylabel(y_label)\r\n",
    "\r\n",
    "s_slope, s_int, s_r, s_p, s_std_err = st.linregress(x_axis, y_axis)\r\n",
    "s_fit = s_slope * x_axis + s_int\r\n",
    "line_eq = f\"y = {str(round(s_slope, 2))}x + {str(round(s_int, 2))}\"\r\n",
    "\r\n",
    "plt.plot(x_axis,s_fit,\"--\", color=\"red\")\r\n",
    "plt.annotate(line_eq, (-55,20), fontsize=15, color=\"red\")\r\n",
    "\r\n",
    "print(f\"The r-value is: {s_r**2}\")\r\n",
    "\r\n",
    "plt.show()"
   ]
  },
  {
   "cell_type": "markdown",
   "metadata": {},
   "source": [
    "<b>The first graph showcases the linear regression between Latitude and Cloudiness of cities located in the northern hemisphere, whereas the second graph showcases the linear regression between Latitude and Cloudiness of cities located in the southern hemisphere. Due to the low r-values, it seems to me that there does not seem to be a correlation between the Lattitudes and Cloudiness values in both the northern and southern hemisphere.<b>"
   ]
  },
  {
   "cell_type": "markdown",
   "metadata": {},
   "source": [
    "####  Northern Hemisphere - Wind Speed (mph) vs. Latitude Linear Regression"
   ]
  },
  {
   "cell_type": "code",
   "execution_count": 148,
   "metadata": {},
   "outputs": [
    {
     "name": "stdout",
     "output_type": "stream",
     "text": [
      "The r-value is: 0.0022517423664284303\n"
     ]
    },
    {
     "data": {
      "image/png": "[encoded data removed]",
      "text/plain": [
       "<Figure size 432x288 with 1 Axes>"
      ]
     },
     "metadata": {
      "needs_background": "light"
     },
     "output_type": "display_data"
    }
   ],
   "source": [
    "x_axis = cities_n_hem[\"Lat\"]\r\n",
    "x_label = \"Latitude\"\r\n",
    "\r\n",
    "y_axis = cities_n_hem[\"Wind Speed\"]\r\n",
    "y_label = \"Wind Speed\"\r\n",
    "\r\n",
    "plt.scatter(x_axis, y_axis)\r\n",
    "plt.xlabel(x_label)\r\n",
    "plt.ylabel(y_label)\r\n",
    "\r\n",
    "n_slope, n_int, n_r, n_p, n_std_err = st.linregress(x_axis, y_axis)\r\n",
    "n_fit = n_slope * x_axis + n_int\r\n",
    "line_eq = f\"y = {str(round(n_slope, 2))}x + {str(round(n_int, 2))}\"\r\n",
    "\r\n",
    "plt.plot(x_axis,n_fit,\"--\", color=\"red\")\r\n",
    "plt.annotate(line_eq, (20,25), fontsize=15, color=\"red\")\r\n",
    "\r\n",
    "print(f\"The r-value is: {n_r**2}\")\r\n",
    "\r\n",
    "plt.show()"
   ]
  },
  {
   "cell_type": "markdown",
   "metadata": {},
   "source": [
    "####  Southern Hemisphere - Wind Speed (mph) vs. Latitude Linear Regression"
   ]
  },
  {
   "cell_type": "code",
   "execution_count": 151,
   "metadata": {},
   "outputs": [
    {
     "name": "stdout",
     "output_type": "stream",
     "text": [
      "The r-value is: 0.028447097557318342\n"
     ]
    },
    {
     "data": {
      "image/png": "[encoded data removed]",
      "text/plain": [
       "<Figure size 432x288 with 1 Axes>"
      ]
     },
     "metadata": {
      "needs_background": "light"
     },
     "output_type": "display_data"
    }
   ],
   "source": [
    "x_axis = cities_s_hem[\"Lat\"]\r\n",
    "x_label = \"Latitude\"\r\n",
    "\r\n",
    "y_axis = cities_s_hem[\"Wind Speed\"]\r\n",
    "y_label = \"Wind Speed\"\r\n",
    "\r\n",
    "plt.scatter(x_axis, y_axis)\r\n",
    "plt.xlabel(x_label)\r\n",
    "plt.ylabel(y_label)\r\n",
    "\r\n",
    "s_slope, s_int, s_r, s_p, s_std_err = st.linregress(x_axis, y_axis)\r\n",
    "s_fit = s_slope * x_axis + s_int\r\n",
    "line_eq = f\"y = {str(round(s_slope, 2))}x + {str(round(s_int, 2))}\"\r\n",
    "\r\n",
    "plt.plot(x_axis,s_fit,\"--\", color=\"red\")\r\n",
    "plt.annotate(line_eq, (-25,27), fontsize=15, color=\"red\")\r\n",
    "\r\n",
    "print(f\"The r-value is: {s_r**2}\")\r\n",
    "\r\n",
    "plt.show()"
   ]
  },
  {
   "cell_type": "markdown",
   "metadata": {},
   "source": [
    "<b>The first graph showcases the linear regression between Latitude and Wind Speed of cities located in the northern hemisphere, whereas the second graph showcases the linear regression between Latitude and Wind Speed of cities located in the southern hemisphere. Due to the low r-values, it seems to me that there does not seem to be a correlation between the Lattitudes and Wind Speed in both the northern and southern hemisphere.<b>"
   ]
  },
  {
   "cell_type": "code",
   "execution_count": null,
   "metadata": {},
   "outputs": [],
   "source": []
  }
 ],
 "metadata": {
  "anaconda-cloud": {},
  "interpreter": {
   "hash": "8fac594bfae6525c0c41b4041d2d72effa188cc8ead05f81b1fab2bb098927fb"
  },
  "kernel_info": {
   "name": "python3"
  },
  "kernelspec": {
   "display_name": "Python 3.8.5 64-bit ('base': conda)",
   "name": "python3"
  },
  "language_info": {
   "codemirror_mode": {
    "name": "ipython",
    "version": 3
   },
   "file_extension": ".py",
   "mimetype": "text/x-python",
   "name": "python",
   "nbconvert_exporter": "python",
   "pygments_lexer": "ipython3",
   "version": "3.8.5"
  },
  "latex_envs": {
   "LaTeX_envs_menu_present": true,
   "autoclose": false,
   "autocomplete": true,
   "bibliofile": "biblio.bib",
   "cite_by": "apalike",
   "current_citInitial": 1,
   "eqLabelWithNumbers": true,
   "eqNumInitial": 1,
   "hotkeys": {
    "equation": "Ctrl-E",
    "itemize": "Ctrl-I"
   },
   "labels_anchors": false,
   "latex_user_defs": false,
   "report_style_numbering": false,
   "user_envs_cfg": false
  },
  "nteract": {
   "version": "0.12.3"
  }
 },
 "nbformat": 4,
 "nbformat_minor": 2
}